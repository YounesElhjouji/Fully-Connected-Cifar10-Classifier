{
  "nbformat": 4,
  "nbformat_minor": 0,
  "metadata": {
    "colab": {
      "name": "Elhjouji_Hw3_64_24.ipynb",
      "version": "0.3.2",
      "provenance": []
    },
    "kernelspec": {
      "name": "python3",
      "display_name": "Python 3"
    },
    "accelerator": "GPU"
  },
  "cells": [
    {
      "metadata": {
        "id": "72GjbzmNQ8vZ",
        "colab_type": "text"
      },
      "cell_type": "markdown",
      "source": [
        "Imoprts "
      ]
    },
    {
      "metadata": {
        "id": "UzHmVN1DRDfm",
        "colab_type": "code",
        "colab": {}
      },
      "cell_type": "code",
      "source": [
        "import tensorflow as tf\n",
        "from tensorflow import keras\n",
        "import numpy as np\n",
        "import matplotlib.pyplot as plt\n",
        "import os"
      ],
      "execution_count": 0,
      "outputs": []
    },
    {
      "metadata": {
        "id": "3QnbHoIxr7KP",
        "colab_type": "text"
      },
      "cell_type": "markdown",
      "source": [
        "# Hyperparameters"
      ]
    },
    {
      "metadata": {
        "id": "iJa4kPvIr-IB",
        "colab_type": "code",
        "colab": {}
      },
      "cell_type": "code",
      "source": [
        "epochs = 30\n",
        "nodes_per_layer = [1024,512,256,128,64]\n",
        "layers = []\n",
        "batch_size = 64\n",
        "dropout_rate = 0.3\n",
        "num_classes = 10"
      ],
      "execution_count": 0,
      "outputs": []
    },
    {
      "metadata": {
        "id": "fTVWmeYDlVJ9",
        "colab_type": "text"
      },
      "cell_type": "markdown",
      "source": [
        "# Loading and Standerdizing data"
      ]
    },
    {
      "metadata": {
        "id": "9Q9gGr__RnXC",
        "colab_type": "text"
      },
      "cell_type": "markdown",
      "source": [
        "Loading data"
      ]
    },
    {
      "metadata": {
        "id": "JQAAcblfRuJc",
        "colab_type": "code",
        "colab": {}
      },
      "cell_type": "code",
      "source": [
        "(x_train, y_train), (x_test, y_test) = keras.datasets.cifar10.load_data()"
      ],
      "execution_count": 0,
      "outputs": []
    },
    {
      "metadata": {
        "id": "dKzsDe27yHKi",
        "colab_type": "text"
      },
      "cell_type": "markdown",
      "source": [
        "Standerdizing the images"
      ]
    },
    {
      "metadata": {
        "id": "IgC7MIOXyMp4",
        "colab_type": "code",
        "colab": {}
      },
      "cell_type": "code",
      "source": [
        "x_train = tf.map_fn(lambda image: tf.image.per_image_standardization(image), x_train, dtype=tf.float32)\n",
        "x_train = tf.Session().run(x_train)\n",
        "x_test = tf.map_fn(lambda image: tf.image.per_image_standardization(image), x_test, dtype=tf.float32)\n",
        "x_test = tf.Session().run(x_test)\n"
      ],
      "execution_count": 0,
      "outputs": []
    },
    {
      "metadata": {
        "id": "eFTJVSyHldTZ",
        "colab_type": "text"
      },
      "cell_type": "markdown",
      "source": [
        "# Making and Compiling the Model"
      ]
    },
    {
      "metadata": {
        "id": "uikocBEMBSSG",
        "colab_type": "text"
      },
      "cell_type": "markdown",
      "source": [
        "I am currently not using l2 regularization because it makes learning with generated data slower and doesn't reduce overfitting"
      ]
    },
    {
      "metadata": {
        "id": "vRwuCvKeBTjb",
        "colab_type": "code",
        "colab": {}
      },
      "cell_type": "code",
      "source": [
        "layers = []\n",
        "layers.append(tf.keras.layers.Flatten())\n",
        "for nodes in nodes_per_layer:\n",
        " layers.append(keras.layers.Dense(nodes, activation=tf.nn.relu)) # Using l2 regularization kernel_regularizer=tf.keras.regularizers.l2(l=0.0001)\n",
        " layers.append(keras.layers.Dropout(dropout_rate))\n",
        "layers.append(keras.layers.Softmax())\n",
        "model = keras.Sequential(layers)"
      ],
      "execution_count": 0,
      "outputs": []
    },
    {
      "metadata": {
        "id": "5syA6b2-Htz7",
        "colab_type": "text"
      },
      "cell_type": "markdown",
      "source": [
        "Compiling the model"
      ]
    },
    {
      "metadata": {
        "id": "Na8zZgDzHwor",
        "colab_type": "code",
        "colab": {}
      },
      "cell_type": "code",
      "source": [
        "model.compile(optimizer=tf.train.AdamOptimizer(0.001), \n",
        "              loss='sparse_categorical_crossentropy',\n",
        "              metrics=['accuracy'])"
      ],
      "execution_count": 0,
      "outputs": []
    },
    {
      "metadata": {
        "id": "WdUHfDfxlu9U",
        "colab_type": "text"
      },
      "cell_type": "markdown",
      "source": [
        "# Training the Model"
      ]
    },
    {
      "metadata": {
        "id": "VTAQoTY94w5c",
        "colab_type": "text"
      },
      "cell_type": "markdown",
      "source": [
        "## First: without data augmentation\n",
        "\n",
        "This training is fast and gets the model to around 50%, however it starts overfitting after that which is why we switch to training on generated data which is slower, but less likely to cause overfitting"
      ]
    },
    {
      "metadata": {
        "id": "tj4BLgwc5WQN",
        "colab_type": "code",
        "outputId": "1d3ba103-aa71-4bc1-b3df-2a2226ae9f64",
        "colab": {
          "base_uri": "https://localhost:8080/",
          "height": 410
        }
      },
      "cell_type": "code",
      "source": [
        "overfitting_hist = model.fit(x_train, y_train,epochs=10,batch_size=64,validation_data=(x_test,y_test),use_multiprocessing=True)"
      ],
      "execution_count": 0,
      "outputs": [
        {
          "output_type": "stream",
          "text": [
            "Train on 50000 samples, validate on 10000 samples\n",
            "Epoch 1/10\n",
            "50000/50000 [==============================] - 6s 113us/step - loss: 0.8564 - acc: 0.7018 - val_loss: 1.1329 - val_acc: 0.6273\n",
            "Epoch 2/10\n",
            "50000/50000 [==============================] - 6s 114us/step - loss: 0.6771 - acc: 0.7660 - val_loss: 1.1978 - val_acc: 0.6209\n",
            "Epoch 3/10\n",
            "50000/50000 [==============================] - 6s 113us/step - loss: 0.5571 - acc: 0.8078 - val_loss: 1.3275 - val_acc: 0.6167\n",
            "Epoch 4/10\n",
            "50000/50000 [==============================] - 6s 113us/step - loss: 0.4680 - acc: 0.8382 - val_loss: 1.4718 - val_acc: 0.6200\n",
            "Epoch 5/10\n",
            "50000/50000 [==============================] - 6s 112us/step - loss: 0.4010 - acc: 0.8608 - val_loss: 1.5416 - val_acc: 0.6114\n",
            "Epoch 6/10\n",
            "50000/50000 [==============================] - 6s 112us/step - loss: 0.3503 - acc: 0.8802 - val_loss: 1.6777 - val_acc: 0.6153\n",
            "Epoch 7/10\n",
            "50000/50000 [==============================] - 6s 112us/step - loss: 0.3090 - acc: 0.8949 - val_loss: 1.7277 - val_acc: 0.6214\n",
            "Epoch 8/10\n",
            "50000/50000 [==============================] - 6s 112us/step - loss: 0.2778 - acc: 0.9059 - val_loss: 1.8676 - val_acc: 0.6147\n",
            "Epoch 9/10\n",
            "50000/50000 [==============================] - 6s 113us/step - loss: 0.2521 - acc: 0.9152 - val_loss: 1.9904 - val_acc: 0.6098\n",
            "Epoch 10/10\n",
            "50000/50000 [==============================] - 6s 113us/step - loss: 0.2510 - acc: 0.9155 - val_loss: 2.0119 - val_acc: 0.6081\n"
          ],
          "name": "stdout"
        }
      ]
    },
    {
      "metadata": {
        "id": "f_AH31KIgQ4o",
        "colab_type": "text"
      },
      "cell_type": "markdown",
      "source": [
        "Plotting training and test accuracy"
      ]
    },
    {
      "metadata": {
        "id": "IVlQ_C48gVtu",
        "colab_type": "code",
        "outputId": "3a5fb796-0c6f-428c-de84-13c0c40672f9",
        "colab": {
          "base_uri": "https://localhost:8080/",
          "height": 381
        }
      },
      "cell_type": "code",
      "source": [
        "plt.plot(overfitting_hist.history['acc'])\n",
        "plt.plot(overfitting_hist.history['val_acc'])\n",
        "plt.title('model accuracy')\n",
        "plt.ylabel('accuracy')"
      ],
      "execution_count": 0,
      "outputs": [
        {
          "output_type": "execute_result",
          "data": {
            "text/plain": [
              "Text(0,0.5,'accuracy')"
            ]
          },
          "metadata": {
            "tags": []
          },
          "execution_count": 33
        },
        {
          "output_type": "display_data",
          "data": {
            "image/png": "[encoded data removed]",
            "text/plain": [
              "<matplotlib.figure.Figure at 0x7fa9c37cfc88>"
            ]
          },
          "metadata": {
            "tags": []
          }
        }
      ]
    },
    {
      "metadata": {
        "id": "WfeKSwd9inwK",
        "colab_type": "text"
      },
      "cell_type": "markdown",
      "source": [
        "The train accuracy is much higher than the test accuracy (by up to 35%), moreover, the test acuracy is either static or going down, which means that the model badly overfits"
      ]
    },
    {
      "metadata": {
        "id": "n5VBLHfedYON",
        "colab_type": "text"
      },
      "cell_type": "markdown",
      "source": [
        "## Data Generation\n",
        "\n",
        "Define data generator to generate more diverse data \n"
      ]
    },
    {
      "metadata": {
        "id": "bz4QuJTedZs-",
        "colab_type": "code",
        "colab": {}
      },
      "cell_type": "code",
      "source": [
        "datagen = keras.preprocessing.image.ImageDataGenerator(\n",
        "    featurewise_center=False,\n",
        "    featurewise_std_normalization=False,\n",
        "    samplewise_center=False,\n",
        "    samplewise_std_normalization=False,\n",
        "    rotation_range=7,\n",
        "    zoom_range = 0.07,\n",
        "    width_shift_range=0.15,\n",
        "    height_shift_range=0.15,\n",
        "    shear_range = 0.01,\n",
        "    horizontal_flip=True)"
      ],
      "execution_count": 0,
      "outputs": []
    },
    {
      "metadata": {
        "id": "Hel1_9I3nMXT",
        "colab_type": "text"
      },
      "cell_type": "markdown",
      "source": [
        "Initialize variables necessary for data generation"
      ]
    },
    {
      "metadata": {
        "id": "asZkyTfsnO7E",
        "colab_type": "code",
        "colab": {}
      },
      "cell_type": "code",
      "source": [
        "datagen.fit(x_train)"
      ],
      "execution_count": 0,
      "outputs": []
    },
    {
      "metadata": {
        "id": "5DsUEoURID9X",
        "colab_type": "text"
      },
      "cell_type": "markdown",
      "source": [
        "## Second: using data augmentation\n",
        "\n",
        "Training the model using the generated data to avoid overfitting\n",
        "This block can be run repeatedly to get better results"
      ]
    },
    {
      "metadata": {
        "id": "T4lF2Le4IyZr",
        "colab_type": "code",
        "outputId": "92868fe5-2ee1-4147-d878-13611969eb57",
        "colab": {
          "base_uri": "https://localhost:8080/",
          "height": 392
        }
      },
      "cell_type": "code",
      "source": [
        "augmented = datagen.flow(x_train, y_train, batch_size=512,shuffle=True)\n",
        "hist = model.fit_generator(augmented, epochs=10,validation_data=(x_test,y_test))"
      ],
      "execution_count": 0,
      "outputs": [
        {
          "output_type": "stream",
          "text": [
            "Epoch 1/10\n",
            "98/98 [==============================] - 27s 275ms/step - loss: 0.9446 - acc: 0.6701 - val_loss: 1.0722 - val_acc: 0.6364\n",
            "Epoch 2/10\n",
            "98/98 [==============================] - 27s 273ms/step - loss: 0.9405 - acc: 0.6731 - val_loss: 1.0683 - val_acc: 0.6406\n",
            "Epoch 3/10\n",
            "98/98 [==============================] - 28s 282ms/step - loss: 0.9251 - acc: 0.6786 - val_loss: 1.0735 - val_acc: 0.6422\n",
            "Epoch 4/10\n",
            "98/98 [==============================] - 27s 274ms/step - loss: 0.9245 - acc: 0.6764 - val_loss: 1.0672 - val_acc: 0.6400\n",
            "Epoch 5/10\n",
            "98/98 [==============================] - 27s 273ms/step - loss: 0.9178 - acc: 0.6775 - val_loss: 1.0650 - val_acc: 0.6422\n",
            "Epoch 6/10\n",
            "98/98 [==============================] - 27s 277ms/step - loss: 0.9168 - acc: 0.6792 - val_loss: 1.0618 - val_acc: 0.6422\n",
            "Epoch 7/10\n",
            "98/98 [==============================] - 27s 276ms/step - loss: 0.9226 - acc: 0.6763 - val_loss: 1.0825 - val_acc: 0.6404\n",
            "Epoch 8/10\n",
            "98/98 [==============================] - 27s 278ms/step - loss: 0.9105 - acc: 0.6814 - val_loss: 1.0741 - val_acc: 0.6411\n",
            "Epoch 9/10\n",
            "98/98 [==============================] - 27s 273ms/step - loss: 0.9040 - acc: 0.6846 - val_loss: 1.0668 - val_acc: 0.6402\n",
            "Epoch 10/10\n",
            "98/98 [==============================] - 27s 273ms/step - loss: 0.9092 - acc: 0.6813 - val_loss: 1.0527 - val_acc: 0.6424\n"
          ],
          "name": "stdout"
        }
      ]
    },
    {
      "metadata": {
        "id": "tJGLDu6Gfiwp",
        "colab_type": "text"
      },
      "cell_type": "markdown",
      "source": [
        "Plotting accuracy curve"
      ]
    },
    {
      "metadata": {
        "id": "Q8woijZxfmjk",
        "colab_type": "code",
        "outputId": "67e152ca-5ed5-4db8-92f0-7e46555f2f29",
        "colab": {
          "base_uri": "https://localhost:8080/",
          "height": 381
        }
      },
      "cell_type": "code",
      "source": [
        "plt.plot(hist.history['acc'])\n",
        "plt.plot(hist.history['val_acc'])\n",
        "plt.title('model accuracy')\n",
        "plt.ylabel('accuracy')"
      ],
      "execution_count": 0,
      "outputs": [
        {
          "output_type": "execute_result",
          "data": {
            "text/plain": [
              "Text(0,0.5,'accuracy')"
            ]
          },
          "metadata": {
            "tags": []
          },
          "execution_count": 35
        },
        {
          "output_type": "display_data",
          "data": {
            "image/png": "[encoded data removed]",
            "text/plain": [
              "<matplotlib.figure.Figure at 0x7fa9c375f5f8>"
            ]
          },
          "metadata": {
            "tags": []
          }
        }
      ]
    },
    {
      "metadata": {
        "id": "-mp-hJDniBPY",
        "colab_type": "text"
      },
      "cell_type": "markdown",
      "source": [
        "In the beginning, the test accuracy is better than the training accuracy, but after the first epochs the train accuracy gets higher than the test accuracy by only up to 4% which means that the model does not worriyingly overfit"
      ]
    },
    {
      "metadata": {
        "id": "QA3ft4_yQEXh",
        "colab_type": "text"
      },
      "cell_type": "markdown",
      "source": [
        "## Evaluate the Model"
      ]
    },
    {
      "metadata": {
        "id": "x41as22CQEdS",
        "colab_type": "code",
        "outputId": "b226a166-862d-44e2-824a-2f1f8e3e673d",
        "colab": {
          "base_uri": "https://localhost:8080/",
          "height": 54
        }
      },
      "cell_type": "code",
      "source": [
        "test_loss, test_acc = model.evaluate(x_test, y_test)\n",
        "print('Test accuracy:', test_acc)"
      ],
      "execution_count": 0,
      "outputs": [
        {
          "output_type": "stream",
          "text": [
            "10000/10000 [==============================] - 1s 94us/step\n",
            "Test accuracy: 0.6424\n"
          ],
          "name": "stdout"
        }
      ]
    },
    {
      "metadata": {
        "id": "1S3x3848mlfD",
        "colab_type": "text"
      },
      "cell_type": "markdown",
      "source": [
        "# Takeaway\n",
        "\n",
        "### On the one hand\n",
        "Training using the unaugmented data set wuickly results in overfitting\n",
        "### On the other hand \n",
        "Using the augmented data set right away causes undefitting\n",
        "### Therefore \n",
        "The best approach that I came up with is to train using unaugmented data first until that results in overfitting and then to switch to augmented data. The model has less of a hard time training on augmented data because it has already leared many of the main features of the classes before data augmentation makes learning harder but less prone to overfitting."
      ]
    }
  ]
}